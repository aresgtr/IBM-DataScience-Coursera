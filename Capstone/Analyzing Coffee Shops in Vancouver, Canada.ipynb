{
 "cells": [
  {
   "cell_type": "markdown",
   "metadata": {},
   "source": [
    "# Analyzing Coffee Shops in Vancouver, Canada"
   ]
  },
  {
   "cell_type": "markdown",
   "metadata": {},
   "source": [
    "### Introduction / Business Problem"
   ]
  },
  {
   "cell_type": "markdown",
   "metadata": {},
   "source": [
    "Vancouver, Canada is the considered one of the most livable cities in the world thanks to the weather. It is also the largest city in Western Canada, third largest metropolitan in Canada after Toronto and Montreal. People in Vancouver love coffee, and they even have lots of local coffee franchise including Waves Coffee and Blenz Coffee, but the demand for good coffee shops is never fulfilled. We are looking for a location for our new coffee shop, preferably at a neighbourhood with less competitors. We will analyze and cluster the data to find out the best location for our new business."
   ]
  },
  {
   "cell_type": "markdown",
   "metadata": {},
   "source": [
    "### Data"
   ]
  },
  {
   "cell_type": "markdown",
   "metadata": {},
   "source": [
    "Data of this project are consisted with the following:\n",
    "\n",
    "1. Neighborhood names of City of Vancouver\n",
    "2. Geocoder library to find the latitude and longitude of each neighborhood\n",
    "3. Foursqaure location data to find venues in each neighborhood"
   ]
  },
  {
   "cell_type": "markdown",
   "metadata": {},
   "source": [
    "### Importing Libraries"
   ]
  },
  {
   "cell_type": "code",
   "execution_count": 65,
   "metadata": {},
   "outputs": [],
   "source": [
    "import numpy as np\n",
    "import pandas as pd\n",
    "import json\n",
    "import requests\n",
    "from pandas.io.json import json_normalize # tranform JSON file into a pandas dataframe\n",
    "from sklearn.cluster import KMeans\n",
    "from geopy.geocoders import Nominatim # convert an address into latitude and longitude values\n",
    "import folium # map rendering library\n",
    "# Matplotlib and associated plotting modules\n",
    "import matplotlib.cm as cm\n",
    "import matplotlib.colors as colors\n",
    "from bs4 import BeautifulSoup"
   ]
  },
  {
   "cell_type": "markdown",
   "metadata": {},
   "source": [
    "### Scrap City of Vacouver Government Website for List of Neighborhoods"
   ]
  },
  {
   "cell_type": "code",
   "execution_count": 56,
   "metadata": {},
   "outputs": [
    {
     "data": {
      "text/plain": [
       "[<a href=\"#\" onclick=\"window.location = $(this).next().attr('href');\" tabindex=\"-1\"><div></div></a>,\n",
       " <a class=\"menulink\" href=\"/news-calendar/arbutus-ridge.aspx?\">Arbutus Ridge</a>,\n",
       " <a href=\"#\" onclick=\"window.location = $(this).next().attr('href');\" tabindex=\"-1\"><div></div></a>,\n",
       " <a class=\"menulink\" href=\"/news-calendar/downtown.aspx?\">Downtown</a>,\n",
       " <a href=\"#\" onclick=\"window.location = $(this).next().attr('href');\" tabindex=\"-1\"><div></div></a>,\n",
       " <a class=\"menulink\" href=\"/news-calendar/dunbar-southlands.aspx?\">Dunbar-Southlands</a>,\n",
       " <a href=\"#\" onclick=\"window.location = $(this).next().attr('href');\" tabindex=\"-1\"><div></div></a>,\n",
       " <a class=\"menulink\" href=\"/news-calendar/fairview.aspx?\">Fairview</a>,\n",
       " <a href=\"#\" onclick=\"window.location = $(this).next().attr('href');\" tabindex=\"-1\"><div></div></a>,\n",
       " <a class=\"menulink\" href=\"/news-calendar/grandview-woodland.aspx?\">Grandview-Woodland   </a>,\n",
       " <a href=\"#\" onclick=\"window.location = $(this).next().attr('href');\" tabindex=\"-1\"><div></div></a>,\n",
       " <a class=\"menulink\" href=\"/news-calendar/hastings-sunrise.aspx?\">Hastings-Sunrise</a>,\n",
       " <a href=\"#\" onclick=\"window.location = $(this).next().attr('href');\" tabindex=\"-1\"><div></div></a>,\n",
       " <a class=\"menulink\" href=\"/news-calendar/kensington-cedar-cottage.aspx?\">Kensington-Cedar Cottage</a>,\n",
       " <a href=\"#\" onclick=\"window.location = $(this).next().attr('href');\" tabindex=\"-1\"><div></div></a>,\n",
       " <a class=\"menulink\" href=\"/news-calendar/kerrisdale.aspx?\">Kerrisdale</a>,\n",
       " <a href=\"#\" onclick=\"window.location = $(this).next().attr('href');\" tabindex=\"-1\"><div></div></a>,\n",
       " <a class=\"menulink\" href=\"/news-calendar/killarney.aspx?\">Killarney</a>,\n",
       " <a href=\"#\" onclick=\"window.location = $(this).next().attr('href');\" tabindex=\"-1\"><div></div></a>,\n",
       " <a class=\"menulink\" href=\"/news-calendar/kitsilano.aspx?\">Kitsilano</a>,\n",
       " <a href=\"#\" onclick=\"window.location = $(this).next().attr('href');\" tabindex=\"-1\"><div></div></a>,\n",
       " <a class=\"menulink\" href=\"/news-calendar/marpole.aspx?\">Marpole</a>,\n",
       " <a href=\"#\" onclick=\"window.location = $(this).next().attr('href');\" tabindex=\"-1\"><div></div></a>,\n",
       " <a class=\"menulink\" href=\"/news-calendar/mount-pleasant.aspx?\">Mount Pleasant</a>,\n",
       " <a href=\"#\" onclick=\"window.location = $(this).next().attr('href');\" tabindex=\"-1\"><div></div></a>,\n",
       " <a class=\"menulink\" href=\"/news-calendar/oakridge.aspx?\">Oakridge</a>,\n",
       " <a href=\"#\" onclick=\"window.location = $(this).next().attr('href');\" tabindex=\"-1\"><div></div></a>,\n",
       " <a class=\"menulink\" href=\"/news-calendar/renfrew.aspx?\">Renfrew-Collingwood</a>,\n",
       " <a href=\"#\" onclick=\"window.location = $(this).next().attr('href');\" tabindex=\"-1\"><div></div></a>,\n",
       " <a class=\"menulink\" href=\"/news-calendar/riley-park.aspx?\">Riley Park</a>,\n",
       " <a href=\"#\" onclick=\"window.location = $(this).next().attr('href');\" tabindex=\"-1\"><div></div></a>,\n",
       " <a class=\"menulink\" href=\"/news-calendar/shaughnessy.aspx?\">Shaughnessy</a>,\n",
       " <a href=\"#\" onclick=\"window.location = $(this).next().attr('href');\" tabindex=\"-1\"><div></div></a>,\n",
       " <a class=\"menulink\" href=\"/news-calendar/south-cambie.aspx?\">South Cambie  </a>,\n",
       " <a href=\"#\" onclick=\"window.location = $(this).next().attr('href');\" tabindex=\"-1\"><div></div></a>,\n",
       " <a class=\"menulink\" href=\"/news-calendar/strathcona.aspx?\">Strathcona</a>,\n",
       " <a href=\"#\" onclick=\"window.location = $(this).next().attr('href');\" tabindex=\"-1\"><div></div></a>,\n",
       " <a class=\"menulink\" href=\"/news-calendar/sunset.aspx?\">Sunset</a>,\n",
       " <a href=\"#\" onclick=\"window.location = $(this).next().attr('href');\" tabindex=\"-1\"><div></div></a>,\n",
       " <a class=\"menulink\" href=\"/news-calendar/victoria-fraserview.aspx?\">Victoria-Fraserview</a>,\n",
       " <a href=\"#\" onclick=\"window.location = $(this).next().attr('href');\" tabindex=\"-1\"><div></div></a>,\n",
       " <a class=\"menulink\" href=\"/news-calendar/west-end.aspx?\">West End</a>,\n",
       " <a href=\"#\" onclick=\"window.location = $(this).next().attr('href');\" tabindex=\"-1\"><div></div></a>,\n",
       " <a class=\"menulink\" href=\"/news-calendar/point-grey.aspx?\">West Point Grey</a>]"
      ]
     },
     "execution_count": 56,
     "metadata": {},
     "output_type": "execute_result"
    }
   ],
   "source": [
    "url = 'https://vancouver.ca/news-calendar/areas-of-the-city.aspx'\n",
    "\n",
    "html = requests.get(url).text\n",
    "soup = BeautifulSoup(html, \"html.parser\")\n",
    "\n",
    "neighborhood_list = soup.find(\"div\", {\"role\": \"navigation\"}).find_all('ul')[1].find_all('a')\n",
    "neighborhood_list"
   ]
  },
  {
   "cell_type": "code",
   "execution_count": 60,
   "metadata": {},
   "outputs": [
    {
     "data": {
      "text/html": [
       "<div>\n",
       "<style scoped>\n",
       "    .dataframe tbody tr th:only-of-type {\n",
       "        vertical-align: middle;\n",
       "    }\n",
       "\n",
       "    .dataframe tbody tr th {\n",
       "        vertical-align: top;\n",
       "    }\n",
       "\n",
       "    .dataframe thead th {\n",
       "        text-align: right;\n",
       "    }\n",
       "</style>\n",
       "<table border=\"1\" class=\"dataframe\">\n",
       "  <thead>\n",
       "    <tr style=\"text-align: right;\">\n",
       "      <th></th>\n",
       "      <th>Neighborhood</th>\n",
       "    </tr>\n",
       "  </thead>\n",
       "  <tbody>\n",
       "    <tr>\n",
       "      <th>0</th>\n",
       "      <td>Arbutus Ridge</td>\n",
       "    </tr>\n",
       "    <tr>\n",
       "      <th>1</th>\n",
       "      <td>Downtown</td>\n",
       "    </tr>\n",
       "    <tr>\n",
       "      <th>2</th>\n",
       "      <td>Dunbar-Southlands</td>\n",
       "    </tr>\n",
       "    <tr>\n",
       "      <th>3</th>\n",
       "      <td>Fairview</td>\n",
       "    </tr>\n",
       "    <tr>\n",
       "      <th>4</th>\n",
       "      <td>Grandview-Woodland</td>\n",
       "    </tr>\n",
       "    <tr>\n",
       "      <th>5</th>\n",
       "      <td>Hastings-Sunrise</td>\n",
       "    </tr>\n",
       "    <tr>\n",
       "      <th>6</th>\n",
       "      <td>Kensington-Cedar Cottage</td>\n",
       "    </tr>\n",
       "    <tr>\n",
       "      <th>7</th>\n",
       "      <td>Kerrisdale</td>\n",
       "    </tr>\n",
       "    <tr>\n",
       "      <th>8</th>\n",
       "      <td>Killarney</td>\n",
       "    </tr>\n",
       "    <tr>\n",
       "      <th>9</th>\n",
       "      <td>Kitsilano</td>\n",
       "    </tr>\n",
       "    <tr>\n",
       "      <th>10</th>\n",
       "      <td>Marpole</td>\n",
       "    </tr>\n",
       "    <tr>\n",
       "      <th>11</th>\n",
       "      <td>Mount Pleasant</td>\n",
       "    </tr>\n",
       "    <tr>\n",
       "      <th>12</th>\n",
       "      <td>Oakridge</td>\n",
       "    </tr>\n",
       "    <tr>\n",
       "      <th>13</th>\n",
       "      <td>Renfrew-Collingwood</td>\n",
       "    </tr>\n",
       "    <tr>\n",
       "      <th>14</th>\n",
       "      <td>Riley Park</td>\n",
       "    </tr>\n",
       "    <tr>\n",
       "      <th>15</th>\n",
       "      <td>Shaughnessy</td>\n",
       "    </tr>\n",
       "    <tr>\n",
       "      <th>16</th>\n",
       "      <td>South Cambie</td>\n",
       "    </tr>\n",
       "    <tr>\n",
       "      <th>17</th>\n",
       "      <td>Strathcona</td>\n",
       "    </tr>\n",
       "    <tr>\n",
       "      <th>18</th>\n",
       "      <td>Sunset</td>\n",
       "    </tr>\n",
       "    <tr>\n",
       "      <th>19</th>\n",
       "      <td>Victoria-Fraserview</td>\n",
       "    </tr>\n",
       "    <tr>\n",
       "      <th>20</th>\n",
       "      <td>West End</td>\n",
       "    </tr>\n",
       "    <tr>\n",
       "      <th>21</th>\n",
       "      <td>West Point Grey</td>\n",
       "    </tr>\n",
       "  </tbody>\n",
       "</table>\n",
       "</div>"
      ],
      "text/plain": [
       "                Neighborhood\n",
       "0              Arbutus Ridge\n",
       "1                   Downtown\n",
       "2          Dunbar-Southlands\n",
       "3                   Fairview\n",
       "4      Grandview-Woodland   \n",
       "5           Hastings-Sunrise\n",
       "6   Kensington-Cedar Cottage\n",
       "7                 Kerrisdale\n",
       "8                  Killarney\n",
       "9                  Kitsilano\n",
       "10                   Marpole\n",
       "11            Mount Pleasant\n",
       "12                  Oakridge\n",
       "13       Renfrew-Collingwood\n",
       "14                Riley Park\n",
       "15               Shaughnessy\n",
       "16            South Cambie  \n",
       "17                Strathcona\n",
       "18                    Sunset\n",
       "19       Victoria-Fraserview\n",
       "20                  West End\n",
       "21           West Point Grey"
      ]
     },
     "execution_count": 60,
     "metadata": {},
     "output_type": "execute_result"
    }
   ],
   "source": [
    "# Create Pandas dataframe\n",
    "\n",
    "column_names = ['Neighborhood']\n",
    "\n",
    "df = pd.DataFrame(columns = column_names)\n",
    "\n",
    "for i in neighborhood_list:\n",
    "    if (i.text != ''):\n",
    "        df = df.append({'Neighborhood': i.text}, ignore_index=True)\n",
    "\n",
    "df"
   ]
  },
  {
   "cell_type": "markdown",
   "metadata": {},
   "source": [
    "### Get Location Data for Each Neighborhood"
   ]
  },
  {
   "cell_type": "code",
   "execution_count": 70,
   "metadata": {},
   "outputs": [
    {
     "data": {
      "text/html": [
       "<div>\n",
       "<style scoped>\n",
       "    .dataframe tbody tr th:only-of-type {\n",
       "        vertical-align: middle;\n",
       "    }\n",
       "\n",
       "    .dataframe tbody tr th {\n",
       "        vertical-align: top;\n",
       "    }\n",
       "\n",
       "    .dataframe thead th {\n",
       "        text-align: right;\n",
       "    }\n",
       "</style>\n",
       "<table border=\"1\" class=\"dataframe\">\n",
       "  <thead>\n",
       "    <tr style=\"text-align: right;\">\n",
       "      <th></th>\n",
       "      <th>Neighborhood</th>\n",
       "      <th>Latitude</th>\n",
       "      <th>Longitude</th>\n",
       "    </tr>\n",
       "  </thead>\n",
       "  <tbody>\n",
       "    <tr>\n",
       "      <th>0</th>\n",
       "      <td>Arbutus Ridge</td>\n",
       "      <td>49.240968</td>\n",
       "      <td>-123.167001</td>\n",
       "    </tr>\n",
       "    <tr>\n",
       "      <th>1</th>\n",
       "      <td>Downtown</td>\n",
       "      <td>49.283393</td>\n",
       "      <td>-123.117456</td>\n",
       "    </tr>\n",
       "    <tr>\n",
       "      <th>2</th>\n",
       "      <td>Dunbar-Southlands</td>\n",
       "      <td>49.253460</td>\n",
       "      <td>-123.185044</td>\n",
       "    </tr>\n",
       "    <tr>\n",
       "      <th>3</th>\n",
       "      <td>Fairview</td>\n",
       "      <td>49.264113</td>\n",
       "      <td>-123.126835</td>\n",
       "    </tr>\n",
       "    <tr>\n",
       "      <th>4</th>\n",
       "      <td>Grandview-Woodland</td>\n",
       "      <td>49.270559</td>\n",
       "      <td>-123.067942</td>\n",
       "    </tr>\n",
       "    <tr>\n",
       "      <th>5</th>\n",
       "      <td>Hastings-Sunrise</td>\n",
       "      <td>49.277594</td>\n",
       "      <td>-123.043920</td>\n",
       "    </tr>\n",
       "    <tr>\n",
       "      <th>6</th>\n",
       "      <td>Kensington-Cedar Cottage</td>\n",
       "      <td>49.247632</td>\n",
       "      <td>-123.084207</td>\n",
       "    </tr>\n",
       "    <tr>\n",
       "      <th>7</th>\n",
       "      <td>Kerrisdale</td>\n",
       "      <td>49.234673</td>\n",
       "      <td>-123.155389</td>\n",
       "    </tr>\n",
       "    <tr>\n",
       "      <th>8</th>\n",
       "      <td>Killarney</td>\n",
       "      <td>49.224274</td>\n",
       "      <td>-123.046250</td>\n",
       "    </tr>\n",
       "    <tr>\n",
       "      <th>9</th>\n",
       "      <td>Kitsilano</td>\n",
       "      <td>49.269410</td>\n",
       "      <td>-123.155267</td>\n",
       "    </tr>\n",
       "    <tr>\n",
       "      <th>10</th>\n",
       "      <td>Marpole</td>\n",
       "      <td>49.209223</td>\n",
       "      <td>-123.136150</td>\n",
       "    </tr>\n",
       "    <tr>\n",
       "      <th>11</th>\n",
       "      <td>Mount Pleasant</td>\n",
       "      <td>49.263330</td>\n",
       "      <td>-123.096588</td>\n",
       "    </tr>\n",
       "    <tr>\n",
       "      <th>12</th>\n",
       "      <td>Oakridge</td>\n",
       "      <td>49.230829</td>\n",
       "      <td>-123.131134</td>\n",
       "    </tr>\n",
       "    <tr>\n",
       "      <th>13</th>\n",
       "      <td>Renfrew-Collingwood</td>\n",
       "      <td>49.242024</td>\n",
       "      <td>-123.057679</td>\n",
       "    </tr>\n",
       "    <tr>\n",
       "      <th>14</th>\n",
       "      <td>Riley Park</td>\n",
       "      <td>49.247438</td>\n",
       "      <td>-123.102966</td>\n",
       "    </tr>\n",
       "    <tr>\n",
       "      <th>15</th>\n",
       "      <td>Shaughnessy</td>\n",
       "      <td>49.251863</td>\n",
       "      <td>-123.138023</td>\n",
       "    </tr>\n",
       "    <tr>\n",
       "      <th>16</th>\n",
       "      <td>South Cambie</td>\n",
       "      <td>49.246685</td>\n",
       "      <td>-123.120915</td>\n",
       "    </tr>\n",
       "    <tr>\n",
       "      <th>17</th>\n",
       "      <td>Strathcona</td>\n",
       "      <td>49.279554</td>\n",
       "      <td>-123.089979</td>\n",
       "    </tr>\n",
       "    <tr>\n",
       "      <th>18</th>\n",
       "      <td>Sunset</td>\n",
       "      <td>49.219593</td>\n",
       "      <td>-123.090239</td>\n",
       "    </tr>\n",
       "    <tr>\n",
       "      <th>19</th>\n",
       "      <td>Victoria-Fraserview</td>\n",
       "      <td>49.218416</td>\n",
       "      <td>-123.073287</td>\n",
       "    </tr>\n",
       "    <tr>\n",
       "      <th>20</th>\n",
       "      <td>West End</td>\n",
       "      <td>49.284131</td>\n",
       "      <td>-123.131795</td>\n",
       "    </tr>\n",
       "    <tr>\n",
       "      <th>21</th>\n",
       "      <td>West Point Grey</td>\n",
       "      <td>49.264484</td>\n",
       "      <td>-123.185433</td>\n",
       "    </tr>\n",
       "  </tbody>\n",
       "</table>\n",
       "</div>"
      ],
      "text/plain": [
       "                Neighborhood   Latitude   Longitude\n",
       "0              Arbutus Ridge  49.240968 -123.167001\n",
       "1                   Downtown  49.283393 -123.117456\n",
       "2          Dunbar-Southlands  49.253460 -123.185044\n",
       "3                   Fairview  49.264113 -123.126835\n",
       "4      Grandview-Woodland     49.270559 -123.067942\n",
       "5           Hastings-Sunrise  49.277594 -123.043920\n",
       "6   Kensington-Cedar Cottage  49.247632 -123.084207\n",
       "7                 Kerrisdale  49.234673 -123.155389\n",
       "8                  Killarney  49.224274 -123.046250\n",
       "9                  Kitsilano  49.269410 -123.155267\n",
       "10                   Marpole  49.209223 -123.136150\n",
       "11            Mount Pleasant  49.263330 -123.096588\n",
       "12                  Oakridge  49.230829 -123.131134\n",
       "13       Renfrew-Collingwood  49.242024 -123.057679\n",
       "14                Riley Park  49.247438 -123.102966\n",
       "15               Shaughnessy  49.251863 -123.138023\n",
       "16            South Cambie    49.246685 -123.120915\n",
       "17                Strathcona  49.279554 -123.089979\n",
       "18                    Sunset  49.219593 -123.090239\n",
       "19       Victoria-Fraserview  49.218416 -123.073287\n",
       "20                  West End  49.284131 -123.131795\n",
       "21           West Point Grey  49.264484 -123.185433"
      ]
     },
     "execution_count": 70,
     "metadata": {},
     "output_type": "execute_result"
    }
   ],
   "source": [
    "geolocator = Nominatim(user_agent=\"foursquare_agent\")\n",
    "\n",
    "for index, row in df.iterrows():\n",
    "    neighborhood = row['Neighborhood']\n",
    "\n",
    "    location = geolocator.geocode('{}, Vancouver, British Columbia'.format(neighborhood))\n",
    "    latitude = location.latitude\n",
    "    longitude = location.longitude\n",
    "    \n",
    "    df.at[index, 'Latitude'] = latitude\n",
    "    df.at[index, 'Longitude'] = longitude\n",
    "    \n",
    "df"
   ]
  },
  {
   "cell_type": "code",
   "execution_count": 71,
   "metadata": {},
   "outputs": [
    {
     "name": "stdout",
     "output_type": "stream",
     "text": [
      "The dataframe has 22 neighborhoods.\n"
     ]
    }
   ],
   "source": [
    "print('The dataframe has {} neighborhoods.'.format(\n",
    "        len(df['Neighborhood'].unique()),\n",
    "        df.shape[0]\n",
    "    )\n",
    ")"
   ]
  },
  {
   "cell_type": "markdown",
   "metadata": {},
   "source": [
    "### Use geopy library to get the latitude and longitude values of Vancouver."
   ]
  },
  {
   "cell_type": "code",
   "execution_count": 72,
   "metadata": {},
   "outputs": [
    {
     "name": "stdout",
     "output_type": "stream",
     "text": [
      "The geograpical coordinate of Vancouver are 49.2608724, -123.1139529.\n"
     ]
    }
   ],
   "source": [
    "address = 'Vancouver, BC'\n",
    "\n",
    "location = geolocator.geocode(address)\n",
    "latitude = location.latitude\n",
    "longitude = location.longitude\n",
    "print('The geograpical coordinate of Vancouver are {}, {}.'.format(latitude, longitude))"
   ]
  },
  {
   "cell_type": "markdown",
   "metadata": {},
   "source": [
    "### Create a map of Vancouver with neighborhoods superimposed on top."
   ]
  },
  {
   "cell_type": "code",
   "execution_count": 79,
   "metadata": {},
   "outputs": [
    {
     "data": {
      "text/html": [
       "<div style=\"width:100%;\"><div style=\"position:relative;width:100%;height:0;padding-bottom:60%;\"><span style=\"color:#565656\">Make this Notebook Trusted to load map: File -> Trust Notebook</span><iframe src=\"about:blank\" style=\"position:absolute;width:100%;height:100%;left:0;top:0;border:none !important;\" data-html=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 onload=\"this.contentDocument.open();this.contentDocument.write(atob(this.getAttribute('data-html')));this.contentDocument.close();\" allowfullscreen webkitallowfullscreen mozallowfullscreen></iframe></div></div>"
      ],
      "text/plain": [
       "<folium.folium.Map at 0x7f83e1281100>"
      ]
     },
     "execution_count": 79,
     "metadata": {},
     "output_type": "execute_result"
    }
   ],
   "source": [
    "# create map of Vancouver using latitude and longitude values\n",
    "map_van = folium.Map(location=[latitude, longitude], zoom_start=11)\n",
    "\n",
    "# add markers to map\n",
    "for lat, lng, neighborhood in zip(df['Latitude'], df['Longitude'], df['Neighborhood']):\n",
    "    label = neighborhood\n",
    "    label = folium.Popup(label, parse_html=True)\n",
    "    folium.CircleMarker(\n",
    "        [lat, lng],\n",
    "        radius=5,\n",
    "        popup=label,\n",
    "        color='blue',\n",
    "        fill=True,\n",
    "        fill_color='#3186cc',\n",
    "        fill_opacity=0.7,\n",
    "        parse_html=False).add_to(map_van)  \n",
    "    \n",
    "map_van"
   ]
  },
  {
   "cell_type": "markdown",
   "metadata": {},
   "source": [
    "### Utilizing the Foursquare API to Explore and Segment the Neighborhoods"
   ]
  },
  {
   "cell_type": "code",
   "execution_count": 80,
   "metadata": {},
   "outputs": [
    {
     "name": "stdout",
     "output_type": "stream",
     "text": [
      "Your credentails:\n",
      "CLIENT_ID: SDJSOB2DM4ZOIV1EUBQRBIA5JDDXC2FCGYGDS3P1NDGTXZBN\n",
      "CLIENT_SECRET:3E4TROMNVJWCRCHMD1FGA3PZYZZMHMAMJAOR1FCXOOJZ3AML\n"
     ]
    }
   ],
   "source": [
    "CLIENT_ID = 'SDJSOB2DM4ZOIV1EUBQRBIA5JDDXC2FCGYGDS3P1NDGTXZBN' # your Foursquare ID\n",
    "CLIENT_SECRET = '3E4TROMNVJWCRCHMD1FGA3PZYZZMHMAMJAOR1FCXOOJZ3AML' # your Foursquare Secret\n",
    "VERSION = '20180605' # Foursquare API version\n",
    "\n",
    "print('Your credentails:')\n",
    "print('CLIENT_ID: ' + CLIENT_ID)\n",
    "print('CLIENT_SECRET:' + CLIENT_SECRET)"
   ]
  },
  {
   "cell_type": "markdown",
   "metadata": {},
   "source": [
    "### Get the top 100 venues within 500 meters of every neighborhood."
   ]
  },
  {
   "cell_type": "code",
   "execution_count": null,
   "metadata": {},
   "outputs": [],
   "source": [
    "def getNearbyVenues(names, latitudes, longitudes, radius=500):\n",
    "    \n",
    "    venues_list=[]\n",
    "    for name, lat, lng in zip(names, latitudes, longitudes):\n",
    "        print(name)\n",
    "            \n",
    "        # create the API request URL\n",
    "        url = 'https://api.foursquare.com/v2/venues/explore?&client_id={}&client_secret={}&v={}&ll={},{}&radius={}&limit={}'.format(\n",
    "            CLIENT_ID, \n",
    "            CLIENT_SECRET, \n",
    "            VERSION, \n",
    "            lat, \n",
    "            lng, \n",
    "            radius, \n",
    "            LIMIT)\n",
    "            \n",
    "        # make the GET request\n",
    "        results = requests.get(url).json()[\"response\"]['groups'][0]['items']\n",
    "        \n",
    "        # return only relevant information for each nearby venue\n",
    "        venues_list.append([(\n",
    "            name, \n",
    "            lat, \n",
    "            lng, \n",
    "            v['venue']['name'], \n",
    "            v['venue']['location']['lat'], \n",
    "            v['venue']['location']['lng'],  \n",
    "            v['venue']['categories'][0]['name']) for v in results])\n",
    "\n",
    "    nearby_venues = pd.DataFrame([item for venue_list in venues_list for item in venue_list])\n",
    "    nearby_venues.columns = ['Neighborhood', \n",
    "                  'Neighborhood Latitude', \n",
    "                  'Neighborhood Longitude', \n",
    "                  'Venue', \n",
    "                  'Venue Latitude', \n",
    "                  'Venue Longitude', \n",
    "                  'Venue Category']\n",
    "    \n",
    "    return(nearby_venues)"
   ]
  }
 ],
 "metadata": {
  "kernelspec": {
   "display_name": "Python 3",
   "language": "python",
   "name": "python3"
  },
  "language_info": {
   "codemirror_mode": {
    "name": "ipython",
    "version": 3
   },
   "file_extension": ".py",
   "mimetype": "text/x-python",
   "name": "python",
   "nbconvert_exporter": "python",
   "pygments_lexer": "ipython3",
   "version": "3.8.3"
  }
 },
 "nbformat": 4,
 "nbformat_minor": 4
}
